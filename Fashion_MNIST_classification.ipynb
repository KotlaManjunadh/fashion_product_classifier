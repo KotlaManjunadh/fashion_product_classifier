{
  "nbformat": 4,
  "nbformat_minor": 0,
  "metadata": {
    "colab": {
      "provenance": []
    },
    "kernelspec": {
      "name": "python3",
      "display_name": "Python 3"
    },
    "accelerator": "GPU"
  },
  "cells": [
    {
      "cell_type": "markdown",
      "metadata": {
        "id": "0kEq1gRxFC3B"
      },
      "source": [
        "# **Load Data**"
      ]
    },
    {
      "cell_type": "code",
      "metadata": {
        "colab": {
          "base_uri": "https://localhost:8080/"
        },
        "id": "qghB_rRWET-z",
        "outputId": "a99d4dd3-4c52-4b7d-a348-40750d512958"
      },
      "source": [
        "import tensorflow as tf\n",
        "from tensorflow import keras\n",
        "\n",
        "fashion_mnist = keras.datasets.fashion_mnist\n",
        "(X_train_full, y_train_full), (X_test, y_test) = fashion_mnist.load_data()\n",
        "\n"
      ],
      "execution_count": 1,
      "outputs": [
        {
          "output_type": "stream",
          "name": "stdout",
          "text": [
            "Downloading data from https://storage.googleapis.com/tensorflow/tf-keras-datasets/train-labels-idx1-ubyte.gz\n",
            "29515/29515 [==============================] - 0s 0us/step\n",
            "Downloading data from https://storage.googleapis.com/tensorflow/tf-keras-datasets/train-images-idx3-ubyte.gz\n",
            "26421880/26421880 [==============================] - 2s 0us/step\n",
            "Downloading data from https://storage.googleapis.com/tensorflow/tf-keras-datasets/t10k-labels-idx1-ubyte.gz\n",
            "5148/5148 [==============================] - 0s 0us/step\n",
            "Downloading data from https://storage.googleapis.com/tensorflow/tf-keras-datasets/t10k-images-idx3-ubyte.gz\n",
            "4422102/4422102 [==============================] - 0s 0us/step\n"
          ]
        }
      ]
    },
    {
      "cell_type": "code",
      "metadata": {
        "colab": {
          "base_uri": "https://localhost:8080/"
        },
        "id": "3m6t7pj3F1oA",
        "outputId": "37533920-0555-471f-dd76-f4f644067a9b"
      },
      "source": [
        "X_train_full.shape"
      ],
      "execution_count": 2,
      "outputs": [
        {
          "output_type": "execute_result",
          "data": {
            "text/plain": [
              "(60000, 28, 28)"
            ]
          },
          "metadata": {},
          "execution_count": 2
        }
      ]
    },
    {
      "cell_type": "code",
      "source": [
        "X_train_full[0][17]"
      ],
      "metadata": {
        "colab": {
          "base_uri": "https://localhost:8080/"
        },
        "id": "mBN_uPuygwzG",
        "outputId": "0447f2ea-8d3b-49ea-8639-d9ae0430405b"
      },
      "execution_count": 19,
      "outputs": [
        {
          "output_type": "execute_result",
          "data": {
            "text/plain": [
              "array([  0,  57, 187, 208, 224, 221, 224, 208, 204, 214, 208, 209, 200,\n",
              "       159, 245, 193, 206, 223, 255, 255, 221, 234, 221, 211, 220, 232,\n",
              "       246,   0], dtype=uint8)"
            ]
          },
          "metadata": {},
          "execution_count": 19
        }
      ]
    },
    {
      "cell_type": "code",
      "source": [
        "pd.Series(y_train_full).value_counts()"
      ],
      "metadata": {
        "colab": {
          "base_uri": "https://localhost:8080/"
        },
        "id": "VcxGLczdifS3",
        "outputId": "6bbb27fe-38d4-4356-9743-2a37f84676e0"
      },
      "execution_count": 23,
      "outputs": [
        {
          "output_type": "execute_result",
          "data": {
            "text/plain": [
              "9    6000\n",
              "0    6000\n",
              "3    6000\n",
              "2    6000\n",
              "7    6000\n",
              "5    6000\n",
              "1    6000\n",
              "6    6000\n",
              "4    6000\n",
              "8    6000\n",
              "dtype: int64"
            ]
          },
          "metadata": {},
          "execution_count": 23
        }
      ]
    },
    {
      "cell_type": "markdown",
      "metadata": {
        "id": "aQyPP_2LHpz-"
      },
      "source": [
        "# **Create Validation Set and Scale pixel values between 0-1**\n",
        "\n",
        "\n"
      ]
    },
    {
      "cell_type": "code",
      "metadata": {
        "id": "ruCJa_tRHxoF"
      },
      "source": [
        "X_valid, X_train = X_train_full[:5000] / 255.0, X_train_full[5000:]/255.0\n",
        "y_valid, y_train = y_train_full[:5000], y_train_full[5000:]"
      ],
      "execution_count": 3,
      "outputs": []
    },
    {
      "cell_type": "code",
      "metadata": {
        "id": "tC8ak3O5IMmV"
      },
      "source": [
        "class_names = [\"T-shirt/top\", \"Trouser\",\"Pullover\",\"Dress\",\"Coat\", \"Sandal\", \"Shirt\",\"Sneaker\", \"Bag\",\"Ankle boot\"]"
      ],
      "execution_count": 4,
      "outputs": []
    },
    {
      "cell_type": "code",
      "metadata": {
        "colab": {
          "base_uri": "https://localhost:8080/"
        },
        "id": "uQ1PL8pKJqKr",
        "outputId": "3559f70c-f202-4c56-b3a8-937d37238002"
      },
      "source": [
        "y_train[0]"
      ],
      "execution_count": 5,
      "outputs": [
        {
          "output_type": "execute_result",
          "data": {
            "text/plain": [
              "4"
            ]
          },
          "metadata": {},
          "execution_count": 5
        }
      ]
    },
    {
      "cell_type": "markdown",
      "metadata": {
        "id": "nzkWPuOOJ4vj"
      },
      "source": [
        "# **Creating the MLP model**"
      ]
    },
    {
      "cell_type": "code",
      "metadata": {
        "colab": {
          "base_uri": "https://localhost:8080/"
        },
        "id": "7-MKKrVGJ_4j",
        "outputId": "1b35d00d-3d3b-4f17-a509-9dfdd48a9d87"
      },
      "source": [
        "model = keras.models.Sequential()\n",
        "model.add(keras.layers.Flatten(input_shape = [28,28]))\n",
        "model.add(keras.layers.Dense(500,activation=\"relu\"))\n",
        "model.add(keras.layers.Dense(250,activation=\"relu\"))\n",
        "model.add(keras.layers.Dense(100,activation=\"relu\"))\n",
        "model.add(keras.layers.Dense(50,activation=\"softmax\"))\n",
        "model.add(keras.layers.Dense(10,activation=\"softmax\"))\n",
        "\n",
        "# model overview\n",
        "model.summary()"
      ],
      "execution_count": 24,
      "outputs": [
        {
          "output_type": "stream",
          "name": "stdout",
          "text": [
            "Model: \"sequential_1\"\n",
            "_________________________________________________________________\n",
            " Layer (type)                Output Shape              Param #   \n",
            "=================================================================\n",
            " flatten_1 (Flatten)         (None, 784)               0         \n",
            "                                                                 \n",
            " dense_3 (Dense)             (None, 500)               392500    \n",
            "                                                                 \n",
            " dense_4 (Dense)             (None, 250)               125250    \n",
            "                                                                 \n",
            " dense_5 (Dense)             (None, 100)               25100     \n",
            "                                                                 \n",
            " dense_6 (Dense)             (None, 50)                5050      \n",
            "                                                                 \n",
            " dense_7 (Dense)             (None, 10)                510       \n",
            "                                                                 \n",
            "=================================================================\n",
            "Total params: 548,410\n",
            "Trainable params: 548,410\n",
            "Non-trainable params: 0\n",
            "_________________________________________________________________\n"
          ]
        }
      ]
    },
    {
      "cell_type": "code",
      "source": [
        "from keras.utils.vis_utils import plot_model"
      ],
      "metadata": {
        "id": "OJo4m3vaRivM"
      },
      "execution_count": 7,
      "outputs": []
    },
    {
      "cell_type": "code",
      "source": [
        "plot_model(model, to_file='model_plot1.png', show_shapes=True, show_layer_names=True)"
      ],
      "metadata": {
        "colab": {
          "base_uri": "https://localhost:8080/",
          "height": 754
        },
        "id": "LLSQtwnoRk-X",
        "outputId": "fb4d0626-8a5d-48c3-c007-8359d6f0052e"
      },
      "execution_count": 25,
      "outputs": [
        {
          "output_type": "execute_result",
          "data": {
            "image/png": "[encoded data removed]",
            "text/plain": [
              "<IPython.core.display.Image object>"
            ]
          },
          "metadata": {},
          "execution_count": 25
        }
      ]
    },
    {
      "cell_type": "markdown",
      "metadata": {
        "id": "M4DjcrlxLGEq"
      },
      "source": [
        "# **Compiling the model**"
      ]
    },
    {
      "cell_type": "code",
      "metadata": {
        "id": "dWW8DxDQLFJt"
      },
      "source": [
        "model.compile(loss=\"sparse_categorical_crossentropy\", optimizer = \"sgd\", metrics=[\"accuracy\"])"
      ],
      "execution_count": 26,
      "outputs": []
    },
    {
      "cell_type": "markdown",
      "metadata": {
        "id": "sL17PuWNLZKC"
      },
      "source": [
        "# **Training**"
      ]
    },
    {
      "cell_type": "code",
      "metadata": {
        "colab": {
          "base_uri": "https://localhost:8080/"
        },
        "id": "wjvAhydGLb2o",
        "outputId": "831168fe-a8c5-4cdf-9a40-82e016817c09"
      },
      "source": [
        "history = model.fit(X_train, y_train, epochs = 40,validation_data = (X_valid,y_valid))"
      ],
      "execution_count": 30,
      "outputs": [
        {
          "output_type": "stream",
          "name": "stdout",
          "text": [
            "Epoch 1/40\n",
            "1719/1719 [==============================] - 6s 3ms/step - loss: 1.3022 - accuracy: 0.4756 - val_loss: 1.3121 - val_accuracy: 0.4998\n",
            "Epoch 2/40\n",
            "1719/1719 [==============================] - 5s 3ms/step - loss: 1.2934 - accuracy: 0.4817 - val_loss: 1.3085 - val_accuracy: 0.4814\n",
            "Epoch 3/40\n",
            "1719/1719 [==============================] - 5s 3ms/step - loss: 1.2842 - accuracy: 0.4763 - val_loss: 1.2996 - val_accuracy: 0.4900\n",
            "Epoch 4/40\n",
            "1719/1719 [==============================] - 6s 3ms/step - loss: 1.2703 - accuracy: 0.4895 - val_loss: 1.2777 - val_accuracy: 0.4964\n",
            "Epoch 5/40\n",
            "1719/1719 [==============================] - 5s 3ms/step - loss: 1.2547 - accuracy: 0.4865 - val_loss: 1.2616 - val_accuracy: 0.4930\n",
            "Epoch 6/40\n",
            "1719/1719 [==============================] - 5s 3ms/step - loss: 1.2354 - accuracy: 0.4977 - val_loss: 1.2351 - val_accuracy: 0.5060\n",
            "Epoch 7/40\n",
            "1719/1719 [==============================] - 5s 3ms/step - loss: 1.2116 - accuracy: 0.5028 - val_loss: 1.2114 - val_accuracy: 0.5068\n",
            "Epoch 8/40\n",
            "1719/1719 [==============================] - 5s 3ms/step - loss: 1.1876 - accuracy: 0.5071 - val_loss: 1.1879 - val_accuracy: 0.4990\n",
            "Epoch 9/40\n",
            "1719/1719 [==============================] - 5s 3ms/step - loss: 1.1627 - accuracy: 0.5111 - val_loss: 1.1639 - val_accuracy: 0.5100\n",
            "Epoch 10/40\n",
            "1719/1719 [==============================] - 5s 3ms/step - loss: 1.1391 - accuracy: 0.5168 - val_loss: 1.1436 - val_accuracy: 0.5168\n",
            "Epoch 11/40\n",
            "1719/1719 [==============================] - 6s 3ms/step - loss: 1.1179 - accuracy: 0.5256 - val_loss: 1.1222 - val_accuracy: 0.5222\n",
            "Epoch 12/40\n",
            "1719/1719 [==============================] - 5s 3ms/step - loss: 1.0987 - accuracy: 0.5336 - val_loss: 1.1092 - val_accuracy: 0.5422\n",
            "Epoch 13/40\n",
            "1719/1719 [==============================] - 5s 3ms/step - loss: 1.0816 - accuracy: 0.5388 - val_loss: 1.0938 - val_accuracy: 0.5370\n",
            "Epoch 14/40\n",
            "1719/1719 [==============================] - 5s 3ms/step - loss: 1.0667 - accuracy: 0.5433 - val_loss: 1.0869 - val_accuracy: 0.5372\n",
            "Epoch 15/40\n",
            "1719/1719 [==============================] - 6s 3ms/step - loss: 1.0535 - accuracy: 0.5506 - val_loss: 1.0624 - val_accuracy: 0.5342\n",
            "Epoch 16/40\n",
            "1719/1719 [==============================] - 5s 3ms/step - loss: 1.0408 - accuracy: 0.5555 - val_loss: 1.0530 - val_accuracy: 0.5412\n",
            "Epoch 17/40\n",
            "1719/1719 [==============================] - 5s 3ms/step - loss: 1.0296 - accuracy: 0.5602 - val_loss: 1.0600 - val_accuracy: 0.5408\n",
            "Epoch 18/40\n",
            "1719/1719 [==============================] - 5s 3ms/step - loss: 1.0192 - accuracy: 0.5649 - val_loss: 1.0367 - val_accuracy: 0.5516\n",
            "Epoch 19/40\n",
            "1719/1719 [==============================] - 5s 3ms/step - loss: 1.0101 - accuracy: 0.5641 - val_loss: 1.0331 - val_accuracy: 0.5484\n",
            "Epoch 20/40\n",
            "1719/1719 [==============================] - 5s 3ms/step - loss: 1.0010 - accuracy: 0.5720 - val_loss: 1.0213 - val_accuracy: 0.5630\n",
            "Epoch 21/40\n",
            "1719/1719 [==============================] - 5s 3ms/step - loss: 0.9921 - accuracy: 0.5763 - val_loss: 1.0372 - val_accuracy: 0.5744\n",
            "Epoch 22/40\n",
            "1719/1719 [==============================] - 5s 3ms/step - loss: 0.9843 - accuracy: 0.5719 - val_loss: 1.0089 - val_accuracy: 0.5560\n",
            "Epoch 23/40\n",
            "1719/1719 [==============================] - 6s 3ms/step - loss: 0.9761 - accuracy: 0.5839 - val_loss: 1.0086 - val_accuracy: 0.5554\n",
            "Epoch 24/40\n",
            "1719/1719 [==============================] - 5s 3ms/step - loss: 0.9692 - accuracy: 0.5840 - val_loss: 1.0063 - val_accuracy: 0.6138\n",
            "Epoch 25/40\n",
            "1719/1719 [==============================] - 6s 3ms/step - loss: 0.9620 - accuracy: 0.5937 - val_loss: 0.9943 - val_accuracy: 0.5868\n",
            "Epoch 26/40\n",
            "1719/1719 [==============================] - 5s 3ms/step - loss: 0.9547 - accuracy: 0.5991 - val_loss: 0.9862 - val_accuracy: 0.5842\n",
            "Epoch 27/40\n",
            "1719/1719 [==============================] - 5s 3ms/step - loss: 0.9486 - accuracy: 0.5975 - val_loss: 0.9977 - val_accuracy: 0.5692\n",
            "Epoch 28/40\n",
            "1719/1719 [==============================] - 5s 3ms/step - loss: 0.9423 - accuracy: 0.6081 - val_loss: 0.9784 - val_accuracy: 0.6076\n",
            "Epoch 29/40\n",
            "1719/1719 [==============================] - 6s 3ms/step - loss: 0.9361 - accuracy: 0.6127 - val_loss: 0.9757 - val_accuracy: 0.5848\n",
            "Epoch 30/40\n",
            "1719/1719 [==============================] - 5s 3ms/step - loss: 0.9298 - accuracy: 0.6147 - val_loss: 0.9726 - val_accuracy: 0.5964\n",
            "Epoch 31/40\n",
            "1719/1719 [==============================] - 5s 3ms/step - loss: 0.9244 - accuracy: 0.6185 - val_loss: 0.9637 - val_accuracy: 0.5954\n",
            "Epoch 32/40\n",
            "1719/1719 [==============================] - 5s 3ms/step - loss: 0.9182 - accuracy: 0.6224 - val_loss: 0.9669 - val_accuracy: 0.5838\n",
            "Epoch 33/40\n",
            "1719/1719 [==============================] - 5s 3ms/step - loss: 0.9133 - accuracy: 0.6222 - val_loss: 0.9547 - val_accuracy: 0.6050\n",
            "Epoch 34/40\n",
            "1719/1719 [==============================] - 5s 3ms/step - loss: 0.9078 - accuracy: 0.6246 - val_loss: 0.9542 - val_accuracy: 0.6302\n",
            "Epoch 35/40\n",
            "1719/1719 [==============================] - 5s 3ms/step - loss: 0.9025 - accuracy: 0.6341 - val_loss: 0.9605 - val_accuracy: 0.6212\n",
            "Epoch 36/40\n",
            "1719/1719 [==============================] - 5s 3ms/step - loss: 0.8974 - accuracy: 0.6292 - val_loss: 0.9549 - val_accuracy: 0.6264\n",
            "Epoch 37/40\n",
            "1719/1719 [==============================] - 5s 3ms/step - loss: 0.8934 - accuracy: 0.6369 - val_loss: 0.9434 - val_accuracy: 0.6398\n",
            "Epoch 38/40\n",
            "1719/1719 [==============================] - 5s 3ms/step - loss: 0.8875 - accuracy: 0.6407 - val_loss: 0.9885 - val_accuracy: 0.6008\n",
            "Epoch 39/40\n",
            "1719/1719 [==============================] - 5s 3ms/step - loss: 0.8822 - accuracy: 0.6425 - val_loss: 0.9342 - val_accuracy: 0.6030\n",
            "Epoch 40/40\n",
            "1719/1719 [==============================] - 5s 3ms/step - loss: 0.8770 - accuracy: 0.6517 - val_loss: 0.9336 - val_accuracy: 0.6162\n"
          ]
        }
      ]
    },
    {
      "cell_type": "markdown",
      "metadata": {
        "id": "BO-RUFOXNM9A"
      },
      "source": [
        "# **Plot the Learning Curves**"
      ]
    },
    {
      "cell_type": "code",
      "metadata": {
        "colab": {
          "base_uri": "https://localhost:8080/",
          "height": 324
        },
        "id": "zgRXt22ONEEJ",
        "outputId": "08b727e7-3cc1-484e-b306-05c05418080b"
      },
      "source": [
        "import pandas as pd\n",
        "import matplotlib.pyplot as plt\n",
        "\n",
        "pd.DataFrame(history.history).plot(figsize=(8,5))\n",
        "plt.grid(\"True\")\n",
        "plt.gca().set_ylim(0,1)\n",
        "plt.show()"
      ],
      "execution_count": 29,
      "outputs": [
        {
          "output_type": "display_data",
          "data": {
            "text/plain": [
              "<Figure size 576x360 with 1 Axes>"
            ],
            "image/png": "[encoded data removed]"
          },
          "metadata": {
            "needs_background": "light"
          }
        }
      ]
    },
    {
      "cell_type": "code",
      "metadata": {
        "colab": {
          "base_uri": "https://localhost:8080/"
        },
        "id": "r67qlfelOPRQ",
        "outputId": "e610c5b8-f7c1-4abe-d2c2-e7846433cbf4"
      },
      "source": [
        "model.evaluate(X_test, y_test)"
      ],
      "execution_count": 28,
      "outputs": [
        {
          "output_type": "stream",
          "name": "stdout",
          "text": [
            "313/313 [==============================] - 1s 2ms/step - loss: 1.5807 - accuracy: 0.2982\n"
          ]
        },
        {
          "output_type": "execute_result",
          "data": {
            "text/plain": [
              "[1.5806671380996704, 0.29820001125335693]"
            ]
          },
          "metadata": {},
          "execution_count": 28
        }
      ]
    },
    {
      "cell_type": "code",
      "metadata": {
        "colab": {
          "base_uri": "https://localhost:8080/"
        },
        "id": "K2imJwjhQQ8V",
        "outputId": "c8f2c5cf-7b6b-4964-f261-dacd2bf3320d"
      },
      "source": [
        "X_new = X_test[:3]\n",
        "y_proba = model.predict(X_new)\n",
        "y_proba.round(2)"
      ],
      "execution_count": 14,
      "outputs": [
        {
          "output_type": "stream",
          "name": "stdout",
          "text": [
            "1/1 [==============================] - 0s 70ms/step\n"
          ]
        },
        {
          "output_type": "execute_result",
          "data": {
            "text/plain": [
              "array([[0., 0., 0., 0., 0., 0., 0., 0., 0., 1.],\n",
              "       [0., 0., 1., 0., 0., 0., 0., 0., 0., 0.],\n",
              "       [0., 1., 0., 0., 0., 0., 0., 0., 0., 0.]], dtype=float32)"
            ]
          },
          "metadata": {},
          "execution_count": 14
        }
      ]
    },
    {
      "cell_type": "code",
      "metadata": {
        "colab": {
          "base_uri": "https://localhost:8080/"
        },
        "id": "dyDgX1OpQawt",
        "outputId": "22137777-aa00-4693-84a9-9a9433984a80"
      },
      "source": [
        "import numpy as np\n",
        "y_pred = np.argmax(model.predict(X_new), axis=-1)\n",
        "y_pred\n",
        "np.array(class_names)[y_pred]"
      ],
      "execution_count": 15,
      "outputs": [
        {
          "output_type": "stream",
          "name": "stdout",
          "text": [
            "1/1 [==============================] - 0s 17ms/step\n"
          ]
        },
        {
          "output_type": "execute_result",
          "data": {
            "text/plain": [
              "array(['Ankle boot', 'Pullover', 'Trouser'], dtype='<U11')"
            ]
          },
          "metadata": {},
          "execution_count": 15
        }
      ]
    },
    {
      "cell_type": "code",
      "source": [],
      "metadata": {
        "id": "4-ge64fbWBYr"
      },
      "execution_count": 15,
      "outputs": []
    }
  ]
}